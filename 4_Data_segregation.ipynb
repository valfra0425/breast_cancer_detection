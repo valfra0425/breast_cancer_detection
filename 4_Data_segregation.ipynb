{
  "nbformat": 4,
  "nbformat_minor": 0,
  "metadata": {
    "colab": {
      "provenance": []
    },
    "kernelspec": {
      "name": "python3",
      "display_name": "Python 3"
    },
    "language_info": {
      "name": "python"
    },
    "widgets": {
      "application/vnd.jupyter.widget-state+json": {
        "82d648c1f109425fa30cc0cc6bd9e809": {
          "model_module": "@jupyter-widgets/controls",
          "model_name": "VBoxModel",
          "model_module_version": "1.5.0",
          "state": {
            "_dom_classes": [],
            "_model_module": "@jupyter-widgets/controls",
            "_model_module_version": "1.5.0",
            "_model_name": "VBoxModel",
            "_view_count": null,
            "_view_module": "@jupyter-widgets/controls",
            "_view_module_version": "1.5.0",
            "_view_name": "VBoxView",
            "box_style": "",
            "children": [
              "IPY_MODEL_264093338ad94da3a43cbcc4e8136e9b",
              "IPY_MODEL_074a1643a2174903bb33f57f6ea98d61"
            ],
            "layout": "IPY_MODEL_c0c50a7574754053a70a6b9d1963b04d"
          }
        },
        "264093338ad94da3a43cbcc4e8136e9b": {
          "model_module": "@jupyter-widgets/controls",
          "model_name": "LabelModel",
          "model_module_version": "1.5.0",
          "state": {
            "_dom_classes": [],
            "_model_module": "@jupyter-widgets/controls",
            "_model_module_version": "1.5.0",
            "_model_name": "LabelModel",
            "_view_count": null,
            "_view_module": "@jupyter-widgets/controls",
            "_view_module_version": "1.5.0",
            "_view_name": "LabelView",
            "description": "",
            "description_tooltip": null,
            "layout": "IPY_MODEL_0f478840737d4c7488e853545f145191",
            "placeholder": "​",
            "style": "IPY_MODEL_03a2b5b53c0d4c189b27d61fefd6eb3e",
            "value": "1329.901 MB of 1329.901 MB uploaded\r"
          }
        },
        "074a1643a2174903bb33f57f6ea98d61": {
          "model_module": "@jupyter-widgets/controls",
          "model_name": "FloatProgressModel",
          "model_module_version": "1.5.0",
          "state": {
            "_dom_classes": [],
            "_model_module": "@jupyter-widgets/controls",
            "_model_module_version": "1.5.0",
            "_model_name": "FloatProgressModel",
            "_view_count": null,
            "_view_module": "@jupyter-widgets/controls",
            "_view_module_version": "1.5.0",
            "_view_name": "ProgressView",
            "bar_style": "",
            "description": "",
            "description_tooltip": null,
            "layout": "IPY_MODEL_4b5c090cba434709a9df6b75555f15a5",
            "max": 1,
            "min": 0,
            "orientation": "horizontal",
            "style": "IPY_MODEL_03356da3b1a94bdb9e4fbdffbd5904f1",
            "value": 1
          }
        },
        "c0c50a7574754053a70a6b9d1963b04d": {
          "model_module": "@jupyter-widgets/base",
          "model_name": "LayoutModel",
          "model_module_version": "1.2.0",
          "state": {
            "_model_module": "@jupyter-widgets/base",
            "_model_module_version": "1.2.0",
            "_model_name": "LayoutModel",
            "_view_count": null,
            "_view_module": "@jupyter-widgets/base",
            "_view_module_version": "1.2.0",
            "_view_name": "LayoutView",
            "align_content": null,
            "align_items": null,
            "align_self": null,
            "border": null,
            "bottom": null,
            "display": null,
            "flex": null,
            "flex_flow": null,
            "grid_area": null,
            "grid_auto_columns": null,
            "grid_auto_flow": null,
            "grid_auto_rows": null,
            "grid_column": null,
            "grid_gap": null,
            "grid_row": null,
            "grid_template_areas": null,
            "grid_template_columns": null,
            "grid_template_rows": null,
            "height": null,
            "justify_content": null,
            "justify_items": null,
            "left": null,
            "margin": null,
            "max_height": null,
            "max_width": null,
            "min_height": null,
            "min_width": null,
            "object_fit": null,
            "object_position": null,
            "order": null,
            "overflow": null,
            "overflow_x": null,
            "overflow_y": null,
            "padding": null,
            "right": null,
            "top": null,
            "visibility": null,
            "width": null
          }
        },
        "0f478840737d4c7488e853545f145191": {
          "model_module": "@jupyter-widgets/base",
          "model_name": "LayoutModel",
          "model_module_version": "1.2.0",
          "state": {
            "_model_module": "@jupyter-widgets/base",
            "_model_module_version": "1.2.0",
            "_model_name": "LayoutModel",
            "_view_count": null,
            "_view_module": "@jupyter-widgets/base",
            "_view_module_version": "1.2.0",
            "_view_name": "LayoutView",
            "align_content": null,
            "align_items": null,
            "align_self": null,
            "border": null,
            "bottom": null,
            "display": null,
            "flex": null,
            "flex_flow": null,
            "grid_area": null,
            "grid_auto_columns": null,
            "grid_auto_flow": null,
            "grid_auto_rows": null,
            "grid_column": null,
            "grid_gap": null,
            "grid_row": null,
            "grid_template_areas": null,
            "grid_template_columns": null,
            "grid_template_rows": null,
            "height": null,
            "justify_content": null,
            "justify_items": null,
            "left": null,
            "margin": null,
            "max_height": null,
            "max_width": null,
            "min_height": null,
            "min_width": null,
            "object_fit": null,
            "object_position": null,
            "order": null,
            "overflow": null,
            "overflow_x": null,
            "overflow_y": null,
            "padding": null,
            "right": null,
            "top": null,
            "visibility": null,
            "width": null
          }
        },
        "03a2b5b53c0d4c189b27d61fefd6eb3e": {
          "model_module": "@jupyter-widgets/controls",
          "model_name": "DescriptionStyleModel",
          "model_module_version": "1.5.0",
          "state": {
            "_model_module": "@jupyter-widgets/controls",
            "_model_module_version": "1.5.0",
            "_model_name": "DescriptionStyleModel",
            "_view_count": null,
            "_view_module": "@jupyter-widgets/base",
            "_view_module_version": "1.2.0",
            "_view_name": "StyleView",
            "description_width": ""
          }
        },
        "4b5c090cba434709a9df6b75555f15a5": {
          "model_module": "@jupyter-widgets/base",
          "model_name": "LayoutModel",
          "model_module_version": "1.2.0",
          "state": {
            "_model_module": "@jupyter-widgets/base",
            "_model_module_version": "1.2.0",
            "_model_name": "LayoutModel",
            "_view_count": null,
            "_view_module": "@jupyter-widgets/base",
            "_view_module_version": "1.2.0",
            "_view_name": "LayoutView",
            "align_content": null,
            "align_items": null,
            "align_self": null,
            "border": null,
            "bottom": null,
            "display": null,
            "flex": null,
            "flex_flow": null,
            "grid_area": null,
            "grid_auto_columns": null,
            "grid_auto_flow": null,
            "grid_auto_rows": null,
            "grid_column": null,
            "grid_gap": null,
            "grid_row": null,
            "grid_template_areas": null,
            "grid_template_columns": null,
            "grid_template_rows": null,
            "height": null,
            "justify_content": null,
            "justify_items": null,
            "left": null,
            "margin": null,
            "max_height": null,
            "max_width": null,
            "min_height": null,
            "min_width": null,
            "object_fit": null,
            "object_position": null,
            "order": null,
            "overflow": null,
            "overflow_x": null,
            "overflow_y": null,
            "padding": null,
            "right": null,
            "top": null,
            "visibility": null,
            "width": null
          }
        },
        "03356da3b1a94bdb9e4fbdffbd5904f1": {
          "model_module": "@jupyter-widgets/controls",
          "model_name": "ProgressStyleModel",
          "model_module_version": "1.5.0",
          "state": {
            "_model_module": "@jupyter-widgets/controls",
            "_model_module_version": "1.5.0",
            "_model_name": "ProgressStyleModel",
            "_view_count": null,
            "_view_module": "@jupyter-widgets/base",
            "_view_module_version": "1.2.0",
            "_view_name": "StyleView",
            "bar_color": null,
            "description_width": ""
          }
        }
      }
    }
  },
  "cells": [
    {
      "cell_type": "code",
      "execution_count": null,
      "metadata": {
        "id": "vWrnrfFQB3y5",
        "colab": {
          "base_uri": "https://localhost:8080/"
        },
        "outputId": "b6dcfb4f-6c73-4da7-ba8d-8f6adde7cc5a"
      },
      "outputs": [
        {
          "output_type": "stream",
          "name": "stdout",
          "text": [
            "Collecting wandb\n",
            "  Downloading wandb-0.16.3-py3-none-any.whl (2.2 MB)\n",
            "\u001b[2K     \u001b[90m━━━━━━━━━━━━━━━━━━━━━━━━━━━━━━━━━━━━━━━━\u001b[0m \u001b[32m2.2/2.2 MB\u001b[0m \u001b[31m10.9 MB/s\u001b[0m eta \u001b[36m0:00:00\u001b[0m\n",
            "\u001b[?25hRequirement already satisfied: Click!=8.0.0,>=7.1 in /usr/local/lib/python3.10/dist-packages (from wandb) (8.1.7)\n",
            "Collecting GitPython!=3.1.29,>=1.0.0 (from wandb)\n",
            "  Downloading GitPython-3.1.42-py3-none-any.whl (195 kB)\n",
            "\u001b[2K     \u001b[90m━━━━━━━━━━━━━━━━━━━━━━━━━━━━━━━━━━━━━━━━\u001b[0m \u001b[32m195.4/195.4 kB\u001b[0m \u001b[31m14.6 MB/s\u001b[0m eta \u001b[36m0:00:00\u001b[0m\n",
            "\u001b[?25hRequirement already satisfied: requests<3,>=2.0.0 in /usr/local/lib/python3.10/dist-packages (from wandb) (2.31.0)\n",
            "Requirement already satisfied: psutil>=5.0.0 in /usr/local/lib/python3.10/dist-packages (from wandb) (5.9.5)\n",
            "Collecting sentry-sdk>=1.0.0 (from wandb)\n",
            "  Downloading sentry_sdk-1.40.6-py2.py3-none-any.whl (258 kB)\n",
            "\u001b[2K     \u001b[90m━━━━━━━━━━━━━━━━━━━━━━━━━━━━━━━━━━━━━━━━\u001b[0m \u001b[32m258.5/258.5 kB\u001b[0m \u001b[31m17.9 MB/s\u001b[0m eta \u001b[36m0:00:00\u001b[0m\n",
            "\u001b[?25hCollecting docker-pycreds>=0.4.0 (from wandb)\n",
            "  Downloading docker_pycreds-0.4.0-py2.py3-none-any.whl (9.0 kB)\n",
            "Requirement already satisfied: PyYAML in /usr/local/lib/python3.10/dist-packages (from wandb) (6.0.1)\n",
            "Collecting setproctitle (from wandb)\n",
            "  Downloading setproctitle-1.3.3-cp310-cp310-manylinux_2_5_x86_64.manylinux1_x86_64.manylinux_2_17_x86_64.manylinux2014_x86_64.whl (30 kB)\n",
            "Requirement already satisfied: setuptools in /usr/local/lib/python3.10/dist-packages (from wandb) (67.7.2)\n",
            "Requirement already satisfied: appdirs>=1.4.3 in /usr/local/lib/python3.10/dist-packages (from wandb) (1.4.4)\n",
            "Requirement already satisfied: protobuf!=4.21.0,<5,>=3.19.0 in /usr/local/lib/python3.10/dist-packages (from wandb) (3.20.3)\n",
            "Requirement already satisfied: six>=1.4.0 in /usr/local/lib/python3.10/dist-packages (from docker-pycreds>=0.4.0->wandb) (1.16.0)\n",
            "Collecting gitdb<5,>=4.0.1 (from GitPython!=3.1.29,>=1.0.0->wandb)\n",
            "  Downloading gitdb-4.0.11-py3-none-any.whl (62 kB)\n",
            "\u001b[2K     \u001b[90m━━━━━━━━━━━━━━━━━━━━━━━━━━━━━━━━━━━━━━━━\u001b[0m \u001b[32m62.7/62.7 kB\u001b[0m \u001b[31m7.2 MB/s\u001b[0m eta \u001b[36m0:00:00\u001b[0m\n",
            "\u001b[?25hRequirement already satisfied: charset-normalizer<4,>=2 in /usr/local/lib/python3.10/dist-packages (from requests<3,>=2.0.0->wandb) (3.3.2)\n",
            "Requirement already satisfied: idna<4,>=2.5 in /usr/local/lib/python3.10/dist-packages (from requests<3,>=2.0.0->wandb) (3.6)\n",
            "Requirement already satisfied: urllib3<3,>=1.21.1 in /usr/local/lib/python3.10/dist-packages (from requests<3,>=2.0.0->wandb) (2.0.7)\n",
            "Requirement already satisfied: certifi>=2017.4.17 in /usr/local/lib/python3.10/dist-packages (from requests<3,>=2.0.0->wandb) (2024.2.2)\n",
            "Collecting smmap<6,>=3.0.1 (from gitdb<5,>=4.0.1->GitPython!=3.1.29,>=1.0.0->wandb)\n",
            "  Downloading smmap-5.0.1-py3-none-any.whl (24 kB)\n",
            "Installing collected packages: smmap, setproctitle, sentry-sdk, docker-pycreds, gitdb, GitPython, wandb\n",
            "Successfully installed GitPython-3.1.42 docker-pycreds-0.4.0 gitdb-4.0.11 sentry-sdk-1.40.6 setproctitle-1.3.3 smmap-5.0.1 wandb-0.16.3\n"
          ]
        }
      ],
      "source": [
        "# instalação do Weights & Biases\n",
        "!pip install wandb"
      ]
    },
    {
      "cell_type": "code",
      "execution_count": null,
      "metadata": {
        "id": "Vced_nyiCpOG"
      },
      "outputs": [],
      "source": [
        "# importação das bibliotecas\n",
        "import logging\n",
        "import tempfile\n",
        "import pandas as pd\n",
        "import os\n",
        "import wandb\n",
        "from sklearn.model_selection import train_test_split\n",
        "import numpy as np\n",
        "import matplotlib.pyplot as plt\n",
        "import random"
      ]
    },
    {
      "cell_type": "code",
      "execution_count": null,
      "metadata": {
        "id": "FOMPXfM2Csb9",
        "colab": {
          "base_uri": "https://localhost:8080/"
        },
        "outputId": "69fee248-825a-4c34-a91a-44714a37ffda"
      },
      "outputs": [
        {
          "output_type": "stream",
          "name": "stdout",
          "text": [
            "\u001b[34m\u001b[1mwandb\u001b[0m: Logging into wandb.ai. (Learn how to deploy a W&B server locally: https://wandb.me/wandb-server)\n",
            "\u001b[34m\u001b[1mwandb\u001b[0m: You can find your API key in your browser here: https://wandb.ai/authorize\n",
            "\u001b[34m\u001b[1mwandb\u001b[0m: Paste an API key from your profile and hit enter, or press ctrl+c to quit: \n",
            "\u001b[34m\u001b[1mwandb\u001b[0m: Appending key for api.wandb.ai to your netrc file: /root/.netrc\n"
          ]
        }
      ],
      "source": [
        "# wandb login\n",
        "!wandb login --relogin"
      ]
    },
    {
      "cell_type": "markdown",
      "metadata": {
        "id": "o9CR4OelC-i3"
      },
      "source": [
        "# Segregação dos Dados"
      ]
    },
    {
      "cell_type": "code",
      "execution_count": null,
      "metadata": {
        "id": "E5e-5Lw29Z2-",
        "colab": {
          "base_uri": "https://localhost:8080/",
          "height": 121
        },
        "outputId": "053e3b5b-fadd-404e-e110-4c6781941626"
      },
      "outputs": [
        {
          "output_type": "stream",
          "name": "stderr",
          "text": [
            "\u001b[34m\u001b[1mwandb\u001b[0m: Currently logged in as: \u001b[33mvalmirfrancisco1\u001b[0m. Use \u001b[1m`wandb login --relogin`\u001b[0m to force relogin\n"
          ]
        },
        {
          "output_type": "display_data",
          "data": {
            "text/plain": [
              "<IPython.core.display.HTML object>"
            ],
            "text/html": [
              "Tracking run with wandb version 0.16.3"
            ]
          },
          "metadata": {}
        },
        {
          "output_type": "display_data",
          "data": {
            "text/plain": [
              "<IPython.core.display.HTML object>"
            ],
            "text/html": [
              "Run data is saved locally in <code>/content/wandb/run-20240227_171950-vqijnyam</code>"
            ]
          },
          "metadata": {}
        },
        {
          "output_type": "display_data",
          "data": {
            "text/plain": [
              "<IPython.core.display.HTML object>"
            ],
            "text/html": [
              "Syncing run <strong><a href='https://wandb.ai/valmirfrancisco1/Breast%20Cancer%20TCC/runs/vqijnyam' target=\"_blank\">dutiful-planet-51</a></strong> to <a href='https://wandb.ai/valmirfrancisco1/Breast%20Cancer%20TCC' target=\"_blank\">Weights & Biases</a> (<a href='https://wandb.me/run' target=\"_blank\">docs</a>)<br/>"
            ]
          },
          "metadata": {}
        },
        {
          "output_type": "display_data",
          "data": {
            "text/plain": [
              "<IPython.core.display.HTML object>"
            ],
            "text/html": [
              " View project at <a href='https://wandb.ai/valmirfrancisco1/Breast%20Cancer%20TCC' target=\"_blank\">https://wandb.ai/valmirfrancisco1/Breast%20Cancer%20TCC</a>"
            ]
          },
          "metadata": {}
        },
        {
          "output_type": "display_data",
          "data": {
            "text/plain": [
              "<IPython.core.display.HTML object>"
            ],
            "text/html": [
              " View run at <a href='https://wandb.ai/valmirfrancisco1/Breast%20Cancer%20TCC/runs/vqijnyam' target=\"_blank\">https://wandb.ai/valmirfrancisco1/Breast%20Cancer%20TCC/runs/vqijnyam</a>"
            ]
          },
          "metadata": {}
        }
      ],
      "source": [
        "# inicializando uma run no wandb\n",
        "run = wandb.init(project=\"Breast Cancer TCC\", job_type=\"split_data\")"
      ]
    },
    {
      "cell_type": "code",
      "execution_count": null,
      "metadata": {
        "id": "oBn1hp8a9nk3"
      },
      "outputs": [],
      "source": [
        "# buscando o artefato de imagens no wandb\n",
        "artifact = run.use_artifact('valmirfrancisco1/Breast Cancer TCC/img_data_clean:latest', type='clean_data').file()\n",
        "data_img = np.load(artifact)\n",
        "\n",
        "# bsucando o artefato de rótulos no wandb\n",
        "artifact2 = run.use_artifact('valmirfrancisco1/Breast Cancer TCC/label_data_clean:latest', type='clean_data').file()\n",
        "labels = pd.read_csv(artifact2)"
      ]
    },
    {
      "cell_type": "code",
      "execution_count": null,
      "metadata": {
        "id": "2q2FvNoDJ5SY"
      },
      "outputs": [],
      "source": [
        "# utilizamos o train_test_split para dividir ps nossos 2 arefatos em arquivos de teste e treino\n",
        "data_img_train, data_img_test, labels_train, labels_test = train_test_split(data_img, labels, test_size=0.2, random_state=42, stratify=labels[\"cancer\"])"
      ]
    },
    {
      "cell_type": "code",
      "execution_count": null,
      "metadata": {
        "id": "t9-1llN8G6Lq",
        "colab": {
          "base_uri": "https://localhost:8080/"
        },
        "outputId": "7b490a60-0d65-43be-a50d-837eadfc5b49"
      },
      "outputs": [
        {
          "output_type": "stream",
          "name": "stdout",
          "text": [
            "quantidade de valores do data_img_train é igual a quantidade de valores do labels_train\n"
          ]
        }
      ],
      "source": [
        "if(len(data_img_train) == len(labels_train)):\n",
        "  print(\"quantidade de valores do data_img_train é igual a quantidade de valores do labels_train\")\n",
        "else:\n",
        "  print(\"quantidade de valores do data_img_train não é igual a quantidade de valores do labels_train\")"
      ]
    },
    {
      "cell_type": "code",
      "execution_count": null,
      "metadata": {
        "id": "SvnLWU03HRuj",
        "colab": {
          "base_uri": "https://localhost:8080/"
        },
        "outputId": "aa67ba79-16b8-428b-d311-429430fac228"
      },
      "outputs": [
        {
          "output_type": "stream",
          "name": "stdout",
          "text": [
            "quantidade de valores do data_img_test é igual a quantidade de valores do labels_test\n"
          ]
        }
      ],
      "source": [
        "if(len(data_img_test) == len(labels_test)):\n",
        "  print(\"quantidade de valores do data_img_test é igual a quantidade de valores do labels_test\")\n",
        "else:\n",
        "  print(\"quantidade de valores do data_img_test não é igual a quantidade de valores do labels_test\")"
      ]
    },
    {
      "cell_type": "markdown",
      "metadata": {
        "id": "GigaE43dUtyH"
      },
      "source": [
        "### Verificando os resultados da nossa divisão"
      ]
    },
    {
      "cell_type": "code",
      "source": [
        "# essa é a contagem de valores com cancer do dataframe\n",
        "filter = labels[\"cancer\"] == 1\n",
        "cancer_value = labels.loc[filter]\n",
        "n = cancer_value[\"cancer\"].count()\n",
        "n"
      ],
      "metadata": {
        "colab": {
          "base_uri": "https://localhost:8080/"
        },
        "id": "O03onHGvwqaf",
        "outputId": "cb8f2794-0be1-4db4-d529-11f3e11f5f3c"
      },
      "execution_count": null,
      "outputs": [
        {
          "output_type": "execute_result",
          "data": {
            "text/plain": [
              "1158"
            ]
          },
          "metadata": {},
          "execution_count": 9
        }
      ]
    },
    {
      "cell_type": "code",
      "source": [
        "# essa é a contagem de valores com cancer do dataframe de treino\n",
        "# para que a proporção esteja correta é necessario que ele tenha 80% de 1158, que é 926,4\n",
        "filter = labels_train[\"cancer\"] == 1\n",
        "cancer_value = labels_train.loc[filter]\n",
        "n = cancer_value[\"cancer\"].count()\n",
        "n"
      ],
      "metadata": {
        "colab": {
          "base_uri": "https://localhost:8080/"
        },
        "id": "Wg-Ptg8ZwN7I",
        "outputId": "8df7afaa-e1aa-4344-f442-0012f3baefdd"
      },
      "execution_count": null,
      "outputs": [
        {
          "output_type": "execute_result",
          "data": {
            "text/plain": [
              "926"
            ]
          },
          "metadata": {},
          "execution_count": 10
        }
      ]
    },
    {
      "cell_type": "code",
      "source": [
        "# essa é a contagem de valores com cancer do dataframe de teste\n",
        "# para que a proporção esteja correta é necessario que ele tenha 20% de 1158, que é 231,6\n",
        "filter = labels_test[\"cancer\"] == 1\n",
        "cancer_value = labels_test.loc[filter]\n",
        "n = cancer_value[\"cancer\"].count()\n",
        "n"
      ],
      "metadata": {
        "colab": {
          "base_uri": "https://localhost:8080/"
        },
        "id": "it1nV85vwj_D",
        "outputId": "dfed765b-1c38-451c-e9dd-d81792278388"
      },
      "execution_count": null,
      "outputs": [
        {
          "output_type": "execute_result",
          "data": {
            "text/plain": [
              "232"
            ]
          },
          "metadata": {},
          "execution_count": 11
        }
      ]
    },
    {
      "cell_type": "markdown",
      "metadata": {
        "id": "9XXWcv11VNEY"
      },
      "source": [
        "### Salvando os dados das imagens em um arquivo numpy"
      ]
    },
    {
      "cell_type": "code",
      "execution_count": null,
      "metadata": {
        "id": "SrB5DiSvVTna"
      },
      "outputs": [],
      "source": [
        "# treino\n",
        "np.save('img_data_train.npy', data_img_train)\n",
        "loaded_data_train = np.load('img_data_train.npy')\n",
        "\n",
        "# teste\n",
        "np.save('img_data_test.npy', data_img_test)\n",
        "loaded_data_test = np.load('img_data_test.npy')"
      ]
    },
    {
      "cell_type": "markdown",
      "metadata": {
        "id": "O3ZBkzLwRQHR"
      },
      "source": [
        "### Salvando os rótulos em um arquivo CSV"
      ]
    },
    {
      "cell_type": "code",
      "execution_count": null,
      "metadata": {
        "id": "qxpi5NxNRJ6b"
      },
      "outputs": [],
      "source": [
        "# treino\n",
        "labels_train.to_csv(\"label_data_train.csv\", index=False)\n",
        "\n",
        "# teste\n",
        "labels_test.to_csv(\"label_data_test.csv\", index=False)"
      ]
    },
    {
      "cell_type": "markdown",
      "metadata": {
        "id": "4T6cgRkyWkk5"
      },
      "source": [
        "### Enviando artefatos de treino e teste para o wandb"
      ]
    },
    {
      "cell_type": "code",
      "execution_count": null,
      "metadata": {
        "colab": {
          "base_uri": "https://localhost:8080/"
        },
        "id": "JD3nmAEzaISO",
        "outputId": "e3c309a6-1ac3-4c8d-8e09-d49cb169eec4"
      },
      "outputs": [
        {
          "output_type": "execute_result",
          "data": {
            "text/plain": [
              "<Artifact label_data_test>"
            ]
          },
          "metadata": {},
          "execution_count": 14
        }
      ],
      "source": [
        "# criando um artefato no wandb\n",
        "artifact = wandb.Artifact(name=\"img_data_train\",\n",
        "                                  type=\"split_data\",\n",
        "                                  description=\"train data of the images\")\n",
        "\n",
        "# adiciona o arquivo no artefato\n",
        "artifact.add_file('img_data_train.npy')\n",
        "# salva o artefato no wandb\n",
        "wandb.run.log_artifact(artifact)\n",
        "\n",
        "# criando um artefato no wandb\n",
        "artifact2 = wandb.Artifact(name=\"img_data_test\",\n",
        "                                  type=\"split_data\",\n",
        "                                  description=\"test data of the images\")\n",
        "\n",
        "# adiciona o arquivo no artefato\n",
        "artifact2.add_file('img_data_test.npy')\n",
        "# salva o artefato no wandb\n",
        "wandb.run.log_artifact(artifact2)\n",
        "\n",
        "# criando um artefato no wandb\n",
        "artifact3 = wandb.Artifact(name=\"label_data_train\",\n",
        "                                  type=\"split_data\",\n",
        "                                  description=\"labels of the train imagens\")\n",
        "\n",
        "# adiciona o arquivo no artefato\n",
        "artifact3.add_file('label_data_train.csv')\n",
        "# salva o artefato no wandb\n",
        "wandb.run.log_artifact(artifact3)\n",
        "\n",
        "# criando um artefato no wandb\n",
        "artifact4 = wandb.Artifact(name=\"label_data_test\",\n",
        "                                  type=\"split_data\",\n",
        "                                  description=\"labels of the test imagens\")\n",
        "\n",
        "# adiciona o arquivo no artefato\n",
        "artifact4.add_file('label_data_test.csv')\n",
        "# salva o artefato no wandb\n",
        "wandb.run.log_artifact(artifact4)"
      ]
    },
    {
      "cell_type": "code",
      "execution_count": null,
      "metadata": {
        "colab": {
          "base_uri": "https://localhost:8080/",
          "height": 69,
          "referenced_widgets": [
            "82d648c1f109425fa30cc0cc6bd9e809",
            "264093338ad94da3a43cbcc4e8136e9b",
            "074a1643a2174903bb33f57f6ea98d61",
            "c0c50a7574754053a70a6b9d1963b04d",
            "0f478840737d4c7488e853545f145191",
            "03a2b5b53c0d4c189b27d61fefd6eb3e",
            "4b5c090cba434709a9df6b75555f15a5",
            "03356da3b1a94bdb9e4fbdffbd5904f1"
          ]
        },
        "id": "G20wuO5ZFDh9",
        "outputId": "ad055a80-853f-4ed1-a558-72a0014902dc"
      },
      "outputs": [
        {
          "output_type": "display_data",
          "data": {
            "text/plain": [
              "VBox(children=(Label(value='148.829 MB of 1329.901 MB uploaded\\r'), FloatProgress(value=0.11190995206039044, m…"
            ],
            "application/vnd.jupyter.widget-view+json": {
              "version_major": 2,
              "version_minor": 0,
              "model_id": "82d648c1f109425fa30cc0cc6bd9e809"
            }
          },
          "metadata": {}
        },
        {
          "output_type": "display_data",
          "data": {
            "text/plain": [
              "<IPython.core.display.HTML object>"
            ],
            "text/html": [
              " View run <strong style=\"color:#cdcd00\">dutiful-planet-51</strong> at: <a href='https://wandb.ai/valmirfrancisco1/Breast%20Cancer%20TCC/runs/vqijnyam' target=\"_blank\">https://wandb.ai/valmirfrancisco1/Breast%20Cancer%20TCC/runs/vqijnyam</a><br/>Synced 5 W&B file(s), 0 media file(s), 2 artifact file(s) and 0 other file(s)"
            ]
          },
          "metadata": {}
        },
        {
          "output_type": "display_data",
          "data": {
            "text/plain": [
              "<IPython.core.display.HTML object>"
            ],
            "text/html": [
              "Find logs at: <code>./wandb/run-20240227_171950-vqijnyam/logs</code>"
            ]
          },
          "metadata": {}
        }
      ],
      "source": [
        "# termina a run\n",
        "run.finish()"
      ]
    }
  ]
}