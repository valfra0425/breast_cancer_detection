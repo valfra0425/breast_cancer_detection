{
  "cells": [
    {
      "cell_type": "code",
      "execution_count": null,
      "metadata": {
        "colab": {
          "base_uri": "https://localhost:8080/"
        },
        "id": "opBCqc_jsDLq",
        "outputId": "231e1378-5127-4a7c-c63e-a3d346951a23"
      },
      "outputs": [
        {
          "output_type": "stream",
          "name": "stdout",
          "text": [
            "Requirement already satisfied: wandb in /usr/local/lib/python3.10/dist-packages (0.16.3)\n",
            "Requirement already satisfied: Click!=8.0.0,>=7.1 in /usr/local/lib/python3.10/dist-packages (from wandb) (8.1.7)\n",
            "Requirement already satisfied: GitPython!=3.1.29,>=1.0.0 in /usr/local/lib/python3.10/dist-packages (from wandb) (3.1.42)\n",
            "Requirement already satisfied: requests<3,>=2.0.0 in /usr/local/lib/python3.10/dist-packages (from wandb) (2.31.0)\n",
            "Requirement already satisfied: psutil>=5.0.0 in /usr/local/lib/python3.10/dist-packages (from wandb) (5.9.5)\n",
            "Requirement already satisfied: sentry-sdk>=1.0.0 in /usr/local/lib/python3.10/dist-packages (from wandb) (1.40.6)\n",
            "Requirement already satisfied: docker-pycreds>=0.4.0 in /usr/local/lib/python3.10/dist-packages (from wandb) (0.4.0)\n",
            "Requirement already satisfied: PyYAML in /usr/local/lib/python3.10/dist-packages (from wandb) (6.0.1)\n",
            "Requirement already satisfied: setproctitle in /usr/local/lib/python3.10/dist-packages (from wandb) (1.3.3)\n",
            "Requirement already satisfied: setuptools in /usr/local/lib/python3.10/dist-packages (from wandb) (67.7.2)\n",
            "Requirement already satisfied: appdirs>=1.4.3 in /usr/local/lib/python3.10/dist-packages (from wandb) (1.4.4)\n",
            "Requirement already satisfied: protobuf!=4.21.0,<5,>=3.19.0 in /usr/local/lib/python3.10/dist-packages (from wandb) (3.20.3)\n",
            "Requirement already satisfied: six>=1.4.0 in /usr/local/lib/python3.10/dist-packages (from docker-pycreds>=0.4.0->wandb) (1.16.0)\n",
            "Requirement already satisfied: gitdb<5,>=4.0.1 in /usr/local/lib/python3.10/dist-packages (from GitPython!=3.1.29,>=1.0.0->wandb) (4.0.11)\n",
            "Requirement already satisfied: charset-normalizer<4,>=2 in /usr/local/lib/python3.10/dist-packages (from requests<3,>=2.0.0->wandb) (3.3.2)\n",
            "Requirement already satisfied: idna<4,>=2.5 in /usr/local/lib/python3.10/dist-packages (from requests<3,>=2.0.0->wandb) (3.6)\n",
            "Requirement already satisfied: urllib3<3,>=1.21.1 in /usr/local/lib/python3.10/dist-packages (from requests<3,>=2.0.0->wandb) (2.0.7)\n",
            "Requirement already satisfied: certifi>=2017.4.17 in /usr/local/lib/python3.10/dist-packages (from requests<3,>=2.0.0->wandb) (2024.2.2)\n",
            "Requirement already satisfied: smmap<6,>=3.0.1 in /usr/local/lib/python3.10/dist-packages (from gitdb<5,>=4.0.1->GitPython!=3.1.29,>=1.0.0->wandb) (5.0.1)\n"
          ]
        }
      ],
      "source": [
        "# instalação do Weights & Biases\n",
        "!pip install wandb"
      ]
    },
    {
      "cell_type": "code",
      "execution_count": null,
      "metadata": {
        "id": "OapSfJ_s3Hbu"
      },
      "outputs": [],
      "source": [
        "# importando bibliotecas\n",
        "import wandb\n",
        "import pandas as pd\n",
        "import numpy as np\n",
        "from sklearn.model_selection import train_test_split\n",
        "import tensorflow as tf\n",
        "import matplotlib.pyplot as plt\n",
        "from sklearn.metrics import classification_report\n",
        "from sklearn.base import BaseEstimator, TransformerMixin\n",
        "from sklearn.pipeline import Pipeline\n",
        "import pickle\n",
        "from keras.layers import Conv2D, MaxPooling2D, Flatten, Dense, Dropout"
      ]
    },
    {
      "cell_type": "code",
      "execution_count": null,
      "metadata": {
        "colab": {
          "base_uri": "https://localhost:8080/"
        },
        "id": "ohXTqN8NfL3r",
        "outputId": "92d69f1b-b777-4319-f156-6598725647b0"
      },
      "outputs": [
        {
          "output_type": "stream",
          "name": "stdout",
          "text": [
            "\u001b[34m\u001b[1mwandb\u001b[0m: Logging into wandb.ai. (Learn how to deploy a W&B server locally: https://wandb.me/wandb-server)\n",
            "\u001b[34m\u001b[1mwandb\u001b[0m: You can find your API key in your browser here: https://wandb.ai/authorize\n",
            "\u001b[34m\u001b[1mwandb\u001b[0m: Paste an API key from your profile and hit enter, or press ctrl+c to quit: \n",
            "\u001b[34m\u001b[1mwandb\u001b[0m: Appending key for api.wandb.ai to your netrc file: /root/.netrc\n"
          ]
        }
      ],
      "source": [
        "# wandb login\n",
        "!wandb login --relogin"
      ]
    },
    {
      "cell_type": "markdown",
      "metadata": {
        "id": "B8QPwSSgN_IE"
      },
      "source": [
        "# Buscando artefatos no wandb"
      ]
    },
    {
      "cell_type": "code",
      "execution_count": null,
      "metadata": {
        "id": "C4Yx6s0ph2-F",
        "colab": {
          "base_uri": "https://localhost:8080/",
          "height": 121
        },
        "outputId": "1535469f-3f21-4136-d22b-2fbd9369e68e"
      },
      "outputs": [
        {
          "output_type": "stream",
          "name": "stderr",
          "text": [
            "\u001b[34m\u001b[1mwandb\u001b[0m: Currently logged in as: \u001b[33mvalmirfrancisco1\u001b[0m. Use \u001b[1m`wandb login --relogin`\u001b[0m to force relogin\n"
          ]
        },
        {
          "output_type": "display_data",
          "data": {
            "text/plain": [
              "<IPython.core.display.HTML object>"
            ],
            "text/html": [
              "Tracking run with wandb version 0.16.3"
            ]
          },
          "metadata": {}
        },
        {
          "output_type": "display_data",
          "data": {
            "text/plain": [
              "<IPython.core.display.HTML object>"
            ],
            "text/html": [
              "Run data is saved locally in <code>/content/wandb/run-20240227_172556-4xsz3sdh</code>"
            ]
          },
          "metadata": {}
        },
        {
          "output_type": "display_data",
          "data": {
            "text/plain": [
              "<IPython.core.display.HTML object>"
            ],
            "text/html": [
              "Syncing run <strong><a href='https://wandb.ai/valmirfrancisco1/Breast%20Cancer%20TCC/runs/4xsz3sdh' target=\"_blank\">rare-salad-52</a></strong> to <a href='https://wandb.ai/valmirfrancisco1/Breast%20Cancer%20TCC' target=\"_blank\">Weights & Biases</a> (<a href='https://wandb.me/run' target=\"_blank\">docs</a>)<br/>"
            ]
          },
          "metadata": {}
        },
        {
          "output_type": "display_data",
          "data": {
            "text/plain": [
              "<IPython.core.display.HTML object>"
            ],
            "text/html": [
              " View project at <a href='https://wandb.ai/valmirfrancisco1/Breast%20Cancer%20TCC' target=\"_blank\">https://wandb.ai/valmirfrancisco1/Breast%20Cancer%20TCC</a>"
            ]
          },
          "metadata": {}
        },
        {
          "output_type": "display_data",
          "data": {
            "text/plain": [
              "<IPython.core.display.HTML object>"
            ],
            "text/html": [
              " View run at <a href='https://wandb.ai/valmirfrancisco1/Breast%20Cancer%20TCC/runs/4xsz3sdh' target=\"_blank\">https://wandb.ai/valmirfrancisco1/Breast%20Cancer%20TCC/runs/4xsz3sdh</a>"
            ]
          },
          "metadata": {}
        }
      ],
      "source": [
        "# inicializando uma run no wandb\n",
        "run = wandb.init(project=\"Breast Cancer TCC\", job_type=\"train_model\")"
      ]
    },
    {
      "cell_type": "code",
      "execution_count": null,
      "metadata": {
        "id": "QwGu7MEHiIgs"
      },
      "outputs": [],
      "source": [
        "# buscando artefatos de treino\n",
        "artifact = run.use_artifact('valmirfrancisco1/Breast Cancer TCC/label_data_train:latest', type='split_data').file()\n",
        "artifact2 = run.use_artifact('valmirfrancisco1/Breast Cancer TCC/img_data_train:latest', type='split_data').file()\n",
        "df = pd.read_csv(artifact)\n",
        "labels = df[\"cancer\"]\n",
        "data_img = np.load(artifact2)"
      ]
    },
    {
      "cell_type": "code",
      "execution_count": null,
      "metadata": {
        "id": "xfk3kOFRrwsY",
        "colab": {
          "base_uri": "https://localhost:8080/"
        },
        "outputId": "38a3b9a2-07d5-40a0-e063-1cbb96c98a72"
      },
      "outputs": [
        {
          "output_type": "stream",
          "name": "stdout",
          "text": [
            "1852\n",
            "926\n",
            "926\n"
          ]
        }
      ],
      "source": [
        "# vendo os valores dos rótulos\n",
        "print(len(labels))\n",
        "count_zeros = np.count_nonzero(labels == 0)\n",
        "print(count_zeros)\n",
        "count_ones = np.count_nonzero(labels == 1)\n",
        "print(count_ones)"
      ]
    },
    {
      "cell_type": "markdown",
      "metadata": {
        "id": "0gt6OWkpjj6W"
      },
      "source": [
        "# Separando dados de treino e dados de validação"
      ]
    },
    {
      "cell_type": "code",
      "execution_count": null,
      "metadata": {
        "id": "Nis2QF8gkQz_"
      },
      "outputs": [],
      "source": [
        "# dividindo valores de treino e validação\n",
        "X_train, X_test, y_train, y_test = train_test_split(data_img, labels, test_size=0.2, random_state=42, stratify=labels)"
      ]
    },
    {
      "cell_type": "markdown",
      "metadata": {
        "id": "d-Ip_3RPkdrG"
      },
      "source": [
        "# Criando o nosso modelo"
      ]
    },
    {
      "cell_type": "code",
      "execution_count": null,
      "metadata": {
        "id": "8NsU2ZD4klOm",
        "colab": {
          "base_uri": "https://localhost:8080/"
        },
        "outputId": "b09a5011-29d1-4d99-880c-8b10040c4995"
      },
      "outputs": [
        {
          "output_type": "stream",
          "name": "stdout",
          "text": [
            "Model: \"sequential_1\"\n",
            "_________________________________________________________________\n",
            " Layer (type)                Output Shape              Param #   \n",
            "=================================================================\n",
            " conv2d_13 (Conv2D)          (None, 224, 224, 64)      1792      \n",
            "                                                                 \n",
            " conv2d_14 (Conv2D)          (None, 224, 224, 64)      36928     \n",
            "                                                                 \n",
            " max_pooling2d_5 (MaxPoolin  (None, 112, 112, 64)      0         \n",
            " g2D)                                                            \n",
            "                                                                 \n",
            " conv2d_15 (Conv2D)          (None, 112, 112, 128)     73856     \n",
            "                                                                 \n",
            " conv2d_16 (Conv2D)          (None, 112, 112, 128)     147584    \n",
            "                                                                 \n",
            " max_pooling2d_6 (MaxPoolin  (None, 56, 56, 128)       0         \n",
            " g2D)                                                            \n",
            "                                                                 \n",
            " conv2d_17 (Conv2D)          (None, 56, 56, 256)       295168    \n",
            "                                                                 \n",
            " conv2d_18 (Conv2D)          (None, 56, 56, 256)       590080    \n",
            "                                                                 \n",
            " conv2d_19 (Conv2D)          (None, 56, 56, 256)       590080    \n",
            "                                                                 \n",
            " max_pooling2d_7 (MaxPoolin  (None, 28, 28, 256)       0         \n",
            " g2D)                                                            \n",
            "                                                                 \n",
            " conv2d_20 (Conv2D)          (None, 28, 28, 512)       1180160   \n",
            "                                                                 \n",
            " conv2d_21 (Conv2D)          (None, 28, 28, 512)       2359808   \n",
            "                                                                 \n",
            " conv2d_22 (Conv2D)          (None, 28, 28, 512)       2359808   \n",
            "                                                                 \n",
            " max_pooling2d_8 (MaxPoolin  (None, 14, 14, 512)       0         \n",
            " g2D)                                                            \n",
            "                                                                 \n",
            " conv2d_23 (Conv2D)          (None, 14, 14, 512)       2359808   \n",
            "                                                                 \n",
            " conv2d_24 (Conv2D)          (None, 14, 14, 512)       2359808   \n",
            "                                                                 \n",
            " conv2d_25 (Conv2D)          (None, 14, 14, 512)       2359808   \n",
            "                                                                 \n",
            " max_pooling2d_9 (MaxPoolin  (None, 7, 7, 512)         0         \n",
            " g2D)                                                            \n",
            "                                                                 \n",
            " flatten_1 (Flatten)         (None, 25088)             0         \n",
            "                                                                 \n",
            " dense_3 (Dense)             (None, 4096)              102764544 \n",
            "                                                                 \n",
            " dropout_2 (Dropout)         (None, 4096)              0         \n",
            "                                                                 \n",
            " dense_4 (Dense)             (None, 4096)              16781312  \n",
            "                                                                 \n",
            " dropout_3 (Dropout)         (None, 4096)              0         \n",
            "                                                                 \n",
            " dense_5 (Dense)             (None, 2)                 8194      \n",
            "                                                                 \n",
            "=================================================================\n",
            "Total params: 134268738 (512.19 MB)\n",
            "Trainable params: 134268738 (512.19 MB)\n",
            "Non-trainable params: 0 (0.00 Byte)\n",
            "_________________________________________________________________\n"
          ]
        }
      ],
      "source": [
        "# Arquitetura VGG-16 com input shape alterado\n",
        "\n",
        "model = tf.keras.Sequential([\n",
        "    # PARTE DA CONVULUÇÃO\n",
        "    # faz operações de convolução com 32 filtros para detecção de padrões em cada 4 pixels (2x2)\n",
        "    # o input_shape significa que ele espera utilizar imagens de 128px por 128px no padrão RGBA\n",
        "    Conv2D(64, (3, 3), activation='relu', padding='same', input_shape=(224, 224, 3)),\n",
        "    Conv2D(64, (3, 3), activation='relu', padding='same'),\n",
        "    # a operação de max pooling tem o efeito de reduzir a resolução espacial da entrada, mantendo apenas os valores máximos dentro da janela de pooling.\n",
        "    MaxPooling2D((2, 2)),\n",
        "\n",
        "    Conv2D(128, (3, 3), activation='relu', padding='same'),\n",
        "    Conv2D(128, (3, 3), activation='relu', padding='same'),\n",
        "    MaxPooling2D((2, 2)),\n",
        "\n",
        "    Conv2D(256, (3, 3), activation='relu', padding='same'),\n",
        "    Conv2D(256, (3, 3), activation='relu', padding='same'),\n",
        "    Conv2D(256, (3, 3), activation='relu', padding='same'),\n",
        "    MaxPooling2D((2, 2)),\n",
        "\n",
        "    Conv2D(512, (3, 3), activation='relu', padding='same'),\n",
        "    Conv2D(512, (3, 3), activation='relu', padding='same'),\n",
        "    Conv2D(512, (3, 3), activation='relu', padding='same'),\n",
        "    MaxPooling2D((2, 2)),\n",
        "\n",
        "    Conv2D(512, (3, 3), activation='relu', padding='same'),\n",
        "    Conv2D(512, (3, 3), activation='relu', padding='same'),\n",
        "    Conv2D(512, (3, 3), activation='relu', padding='same'),\n",
        "    MaxPooling2D((2, 2)),\n",
        "\n",
        "    # PARTE DA REDE NEURAL\n",
        "\n",
        "    # a camada Flatten em uma rede neural é usada para converter dados de entrada multidimensionais em uma única dimensão\n",
        "    Flatten(),\n",
        "    # camadas internas ou escondidas da rede neural\n",
        "    Dense(4096, activation='relu'),\n",
        "    Dropout(0.5),\n",
        "    Dense(4096, activation='relu'),\n",
        "    # a ideia por trás do dropout é desativar aleatoriamente uma fração dos neurônios durante o treinamento, evitando assim o overfitting\n",
        "    Dropout(0.5),\n",
        "    # Camada de saida de 2 neuronios (negativo ou positivo) com função softmax que nos dá probabiulidade de pertencer a cada classe\n",
        "    Dense(2, activation='softmax'),\n",
        "])\n",
        "\n",
        "model.summary()"
      ]
    },
    {
      "cell_type": "code",
      "execution_count": null,
      "metadata": {
        "id": "uhv9YKzm41gj"
      },
      "outputs": [],
      "source": [
        "# compila o modelo\n",
        "model.compile(optimizer='adam', loss='sparse_categorical_crossentropy', metrics=('accuracy'))"
      ]
    },
    {
      "cell_type": "code",
      "execution_count": null,
      "metadata": {
        "id": "_L6lYJ4GOnt9"
      },
      "outputs": [],
      "source": [
        "# utilizando earlystopping para interromper o treinamento se a acurácia na validação não estiver aumentando mesmo após certo número de epochs (patience)\n",
        "earlystopping = tf.keras.callbacks.EarlyStopping(monitor = 'val_accuracy', mode = 'max', verbose = 1, patience = 30)"
      ]
    },
    {
      "cell_type": "code",
      "execution_count": null,
      "metadata": {
        "id": "gz0k8QPcOnt9"
      },
      "outputs": [],
      "source": [
        "# salvar o melhor modelo com maior acurácia na validação\n",
        "checkpointer = tf.keras.callbacks.ModelCheckpoint(filepath=\"breast_cancer_weights.keras\", verbose=1, save_best_only=True, monitor='val_accuracy', mode='max')"
      ]
    },
    {
      "cell_type": "code",
      "execution_count": null,
      "metadata": {
        "id": "f3nyDf2sOnt9",
        "colab": {
          "base_uri": "https://localhost:8080/"
        },
        "outputId": "4ea2558f-93d9-47fe-c7c0-eee9943a6e84"
      },
      "outputs": [
        {
          "output_type": "stream",
          "name": "stdout",
          "text": [
            "Epoch 1/150\n",
            "24/24 [==============================] - ETA: 0s - loss: 0.6992 - accuracy: 0.4963\n",
            "Epoch 1: val_accuracy improved from -inf to 0.49865, saving model to breast_cancer_weights.keras\n",
            "24/24 [==============================] - 42s 2s/step - loss: 0.6992 - accuracy: 0.4963 - val_loss: 0.6936 - val_accuracy: 0.4987\n",
            "Epoch 2/150\n",
            "24/24 [==============================] - ETA: 0s - loss: 0.6936 - accuracy: 0.4916\n",
            "Epoch 2: val_accuracy improved from 0.49865 to 0.50135, saving model to breast_cancer_weights.keras\n",
            "24/24 [==============================] - 32s 1s/step - loss: 0.6936 - accuracy: 0.4916 - val_loss: 0.6933 - val_accuracy: 0.5013\n",
            "Epoch 3/150\n",
            "24/24 [==============================] - ETA: 0s - loss: 0.6955 - accuracy: 0.4848\n",
            "Epoch 3: val_accuracy did not improve from 0.50135\n",
            "24/24 [==============================] - 20s 851ms/step - loss: 0.6955 - accuracy: 0.4848 - val_loss: 0.6932 - val_accuracy: 0.4987\n",
            "Epoch 4/150\n",
            "24/24 [==============================] - ETA: 0s - loss: 0.6939 - accuracy: 0.4922\n",
            "Epoch 4: val_accuracy did not improve from 0.50135\n",
            "24/24 [==============================] - 20s 856ms/step - loss: 0.6939 - accuracy: 0.4922 - val_loss: 0.6931 - val_accuracy: 0.5013\n",
            "Epoch 5/150\n",
            "24/24 [==============================] - ETA: 0s - loss: 0.6935 - accuracy: 0.5030\n",
            "Epoch 5: val_accuracy did not improve from 0.50135\n",
            "24/24 [==============================] - 20s 852ms/step - loss: 0.6935 - accuracy: 0.5030 - val_loss: 0.6933 - val_accuracy: 0.5013\n",
            "Epoch 6/150\n",
            "24/24 [==============================] - ETA: 0s - loss: 0.6938 - accuracy: 0.4855\n",
            "Epoch 6: val_accuracy did not improve from 0.50135\n",
            "24/24 [==============================] - 20s 854ms/step - loss: 0.6938 - accuracy: 0.4855 - val_loss: 0.6932 - val_accuracy: 0.4987\n",
            "Epoch 7/150\n",
            "24/24 [==============================] - ETA: 0s - loss: 0.6937 - accuracy: 0.4828\n",
            "Epoch 7: val_accuracy did not improve from 0.50135\n",
            "24/24 [==============================] - 20s 855ms/step - loss: 0.6937 - accuracy: 0.4828 - val_loss: 0.6932 - val_accuracy: 0.4987\n",
            "Epoch 8/150\n",
            "24/24 [==============================] - ETA: 0s - loss: 0.6934 - accuracy: 0.5017\n",
            "Epoch 8: val_accuracy did not improve from 0.50135\n",
            "24/24 [==============================] - 19s 805ms/step - loss: 0.6934 - accuracy: 0.5017 - val_loss: 0.6931 - val_accuracy: 0.5013\n",
            "Epoch 9/150\n",
            "24/24 [==============================] - ETA: 0s - loss: 0.6933 - accuracy: 0.4929\n",
            "Epoch 9: val_accuracy did not improve from 0.50135\n",
            "24/24 [==============================] - 19s 807ms/step - loss: 0.6933 - accuracy: 0.4929 - val_loss: 0.6931 - val_accuracy: 0.5013\n",
            "Epoch 10/150\n",
            "24/24 [==============================] - ETA: 0s - loss: 0.6931 - accuracy: 0.5003\n",
            "Epoch 10: val_accuracy did not improve from 0.50135\n",
            "24/24 [==============================] - 20s 855ms/step - loss: 0.6931 - accuracy: 0.5003 - val_loss: 0.6932 - val_accuracy: 0.4987\n",
            "Epoch 11/150\n",
            "24/24 [==============================] - ETA: 0s - loss: 0.6936 - accuracy: 0.5071\n",
            "Epoch 11: val_accuracy did not improve from 0.50135\n",
            "24/24 [==============================] - 19s 804ms/step - loss: 0.6936 - accuracy: 0.5071 - val_loss: 0.6932 - val_accuracy: 0.5013\n",
            "Epoch 12/150\n",
            "24/24 [==============================] - ETA: 0s - loss: 0.6934 - accuracy: 0.5037\n",
            "Epoch 12: val_accuracy did not improve from 0.50135\n",
            "24/24 [==============================] - 20s 854ms/step - loss: 0.6934 - accuracy: 0.5037 - val_loss: 0.6932 - val_accuracy: 0.5013\n",
            "Epoch 13/150\n",
            "24/24 [==============================] - ETA: 0s - loss: 0.6936 - accuracy: 0.4943\n",
            "Epoch 13: val_accuracy did not improve from 0.50135\n",
            "24/24 [==============================] - 20s 853ms/step - loss: 0.6936 - accuracy: 0.4943 - val_loss: 0.6935 - val_accuracy: 0.4987\n",
            "Epoch 14/150\n",
            "24/24 [==============================] - ETA: 0s - loss: 0.6942 - accuracy: 0.4943\n",
            "Epoch 14: val_accuracy did not improve from 0.50135\n",
            "24/24 [==============================] - 20s 852ms/step - loss: 0.6942 - accuracy: 0.4943 - val_loss: 0.6932 - val_accuracy: 0.4987\n",
            "Epoch 15/150\n",
            "24/24 [==============================] - ETA: 0s - loss: 0.6930 - accuracy: 0.5125\n",
            "Epoch 15: val_accuracy did not improve from 0.50135\n",
            "24/24 [==============================] - 19s 805ms/step - loss: 0.6930 - accuracy: 0.5125 - val_loss: 0.6934 - val_accuracy: 0.4987\n",
            "Epoch 16/150\n",
            "24/24 [==============================] - ETA: 0s - loss: 0.6934 - accuracy: 0.5010\n",
            "Epoch 16: val_accuracy did not improve from 0.50135\n",
            "24/24 [==============================] - 20s 853ms/step - loss: 0.6934 - accuracy: 0.5010 - val_loss: 0.6931 - val_accuracy: 0.5013\n",
            "Epoch 17/150\n",
            "24/24 [==============================] - ETA: 0s - loss: 0.6935 - accuracy: 0.5024\n",
            "Epoch 17: val_accuracy did not improve from 0.50135\n",
            "24/24 [==============================] - 19s 803ms/step - loss: 0.6935 - accuracy: 0.5024 - val_loss: 0.6932 - val_accuracy: 0.5013\n",
            "Epoch 18/150\n",
            "24/24 [==============================] - ETA: 0s - loss: 0.6939 - accuracy: 0.4970\n",
            "Epoch 18: val_accuracy did not improve from 0.50135\n",
            "24/24 [==============================] - 19s 806ms/step - loss: 0.6939 - accuracy: 0.4970 - val_loss: 0.6931 - val_accuracy: 0.5013\n",
            "Epoch 19/150\n",
            "24/24 [==============================] - ETA: 0s - loss: 0.6935 - accuracy: 0.4882\n",
            "Epoch 19: val_accuracy did not improve from 0.50135\n",
            "24/24 [==============================] - 20s 853ms/step - loss: 0.6935 - accuracy: 0.4882 - val_loss: 0.6935 - val_accuracy: 0.4987\n",
            "Epoch 20/150\n",
            "24/24 [==============================] - ETA: 0s - loss: 0.6929 - accuracy: 0.5044\n",
            "Epoch 20: val_accuracy did not improve from 0.50135\n",
            "24/24 [==============================] - 20s 853ms/step - loss: 0.6929 - accuracy: 0.5044 - val_loss: 0.6932 - val_accuracy: 0.4987\n",
            "Epoch 21/150\n",
            "24/24 [==============================] - ETA: 0s - loss: 0.6939 - accuracy: 0.5010\n",
            "Epoch 21: val_accuracy did not improve from 0.50135\n",
            "24/24 [==============================] - 19s 804ms/step - loss: 0.6939 - accuracy: 0.5010 - val_loss: 0.6932 - val_accuracy: 0.4987\n",
            "Epoch 22/150\n",
            "24/24 [==============================] - ETA: 0s - loss: 0.6934 - accuracy: 0.4909\n",
            "Epoch 22: val_accuracy did not improve from 0.50135\n",
            "24/24 [==============================] - 20s 853ms/step - loss: 0.6934 - accuracy: 0.4909 - val_loss: 0.6932 - val_accuracy: 0.4987\n",
            "Epoch 23/150\n",
            "24/24 [==============================] - ETA: 0s - loss: 0.6941 - accuracy: 0.4875\n",
            "Epoch 23: val_accuracy did not improve from 0.50135\n",
            "24/24 [==============================] - 19s 806ms/step - loss: 0.6941 - accuracy: 0.4875 - val_loss: 0.6932 - val_accuracy: 0.5013\n",
            "Epoch 24/150\n",
            "24/24 [==============================] - ETA: 0s - loss: 0.6939 - accuracy: 0.4909\n",
            "Epoch 24: val_accuracy did not improve from 0.50135\n",
            "24/24 [==============================] - 19s 808ms/step - loss: 0.6939 - accuracy: 0.4909 - val_loss: 0.6932 - val_accuracy: 0.4987\n",
            "Epoch 25/150\n",
            "24/24 [==============================] - ETA: 0s - loss: 0.6934 - accuracy: 0.5017\n",
            "Epoch 25: val_accuracy did not improve from 0.50135\n",
            "24/24 [==============================] - 20s 854ms/step - loss: 0.6934 - accuracy: 0.5017 - val_loss: 0.6932 - val_accuracy: 0.5013\n",
            "Epoch 26/150\n",
            "24/24 [==============================] - ETA: 0s - loss: 0.6932 - accuracy: 0.5017\n",
            "Epoch 26: val_accuracy did not improve from 0.50135\n",
            "24/24 [==============================] - 20s 855ms/step - loss: 0.6932 - accuracy: 0.5017 - val_loss: 0.6932 - val_accuracy: 0.4987\n",
            "Epoch 27/150\n",
            "24/24 [==============================] - ETA: 0s - loss: 0.6937 - accuracy: 0.4976\n",
            "Epoch 27: val_accuracy did not improve from 0.50135\n",
            "24/24 [==============================] - 19s 808ms/step - loss: 0.6937 - accuracy: 0.4976 - val_loss: 0.6931 - val_accuracy: 0.5013\n",
            "Epoch 28/150\n",
            "24/24 [==============================] - ETA: 0s - loss: 0.6933 - accuracy: 0.5044\n",
            "Epoch 28: val_accuracy did not improve from 0.50135\n",
            "24/24 [==============================] - 20s 853ms/step - loss: 0.6933 - accuracy: 0.5044 - val_loss: 0.6932 - val_accuracy: 0.4987\n",
            "Epoch 29/150\n",
            "24/24 [==============================] - ETA: 0s - loss: 0.6942 - accuracy: 0.4956\n",
            "Epoch 29: val_accuracy did not improve from 0.50135\n",
            "24/24 [==============================] - 20s 855ms/step - loss: 0.6942 - accuracy: 0.4956 - val_loss: 0.6933 - val_accuracy: 0.4987\n",
            "Epoch 30/150\n",
            "24/24 [==============================] - ETA: 0s - loss: 0.6934 - accuracy: 0.4956\n",
            "Epoch 30: val_accuracy did not improve from 0.50135\n",
            "24/24 [==============================] - 20s 853ms/step - loss: 0.6934 - accuracy: 0.4956 - val_loss: 0.6932 - val_accuracy: 0.5013\n",
            "Epoch 31/150\n",
            "24/24 [==============================] - ETA: 0s - loss: 0.6931 - accuracy: 0.5159\n",
            "Epoch 31: val_accuracy did not improve from 0.50135\n",
            "24/24 [==============================] - 20s 852ms/step - loss: 0.6931 - accuracy: 0.5159 - val_loss: 0.6931 - val_accuracy: 0.5013\n",
            "Epoch 32/150\n",
            "24/24 [==============================] - ETA: 0s - loss: 0.6930 - accuracy: 0.5024\n",
            "Epoch 32: val_accuracy did not improve from 0.50135\n",
            "24/24 [==============================] - 19s 807ms/step - loss: 0.6930 - accuracy: 0.5024 - val_loss: 0.6932 - val_accuracy: 0.4987\n",
            "Epoch 32: early stopping\n"
          ]
        }
      ],
      "source": [
        "# treinamento do modelo e o histórico dos resultados desse treinamento\n",
        "history = model.fit(X_train, y_train, validation_data=(X_test, y_test), epochs=150, batch_size=64, callbacks=[checkpointer, earlystopping])"
      ]
    },
    {
      "cell_type": "code",
      "execution_count": null,
      "metadata": {
        "id": "itdoqSQJ420r",
        "colab": {
          "base_uri": "https://localhost:8080/",
          "height": 472
        },
        "outputId": "26afc60a-f57e-4673-8eec-e7fc5a4f520e"
      },
      "outputs": [
        {
          "output_type": "display_data",
          "data": {
            "text/plain": [
              "<Figure size 640x480 with 1 Axes>"
            ],
            "image/png": "[encoded data removed]"
          },
          "metadata": {}
        }
      ],
      "source": [
        "# gráfico da acurácia durante o treino\n",
        "plt.plot(history.history['accuracy'])\n",
        "plt.plot(history.history['val_accuracy'])\n",
        "plt.title('model accuracy')\n",
        "plt.ylabel('accuracy')\n",
        "plt.xlabel('epoch')\n",
        "plt.legend(['train', 'test'], loc='upper right')\n",
        "plt.show()"
      ]
    },
    {
      "cell_type": "code",
      "execution_count": null,
      "metadata": {
        "id": "9hhjnggk795W",
        "colab": {
          "base_uri": "https://localhost:8080/",
          "height": 472
        },
        "outputId": "bf6c88be-48e8-4186-9b4b-2e65ca348ad6"
      },
      "outputs": [
        {
          "output_type": "display_data",
          "data": {
            "text/plain": [
              "<Figure size 640x480 with 1 Axes>"
            ],
            "image/png": "[encoded data removed]"
          },
          "metadata": {}
        }
      ],
      "source": [
        "# gráfico do loss durante o treino\n",
        "plt.plot(history.history['loss'])\n",
        "plt.plot(history.history['val_loss'])\n",
        "plt.title('model loss')\n",
        "plt.ylabel('loss')\n",
        "plt.xlabel('epoch')\n",
        "plt.legend(['train', 'test'], loc='upper right')\n",
        "plt.show()"
      ]
    },
    {
      "cell_type": "markdown",
      "metadata": {
        "id": "LUfnHx0ZCt9k"
      },
      "source": [
        "# Criando nossa classe de pipeline"
      ]
    },
    {
      "cell_type": "code",
      "execution_count": null,
      "metadata": {
        "id": "PwcfCcb1OpBb",
        "colab": {
          "base_uri": "https://localhost:8080/"
        },
        "outputId": "1c7e7abb-d4bb-480a-de94-94dfc68ccee3"
      },
      "outputs": [
        {
          "output_type": "stream",
          "name": "stdout",
          "text": [
            "Writing imageProcessor.py\n"
          ]
        }
      ],
      "source": [
        "# arquivo de classes personalizada do pipeline\n",
        "%%file imageProcessor.py\n",
        "\n",
        "import numpy as np\n",
        "from PIL import Image\n",
        "from sklearn.base import BaseEstimator, TransformerMixin\n",
        "from sklearn.pipeline import Pipeline\n",
        "\n",
        "class ImageProcessor(BaseEstimator, TransformerMixin):\n",
        "    def __init__(self, target_size=(224, 224)):\n",
        "        self.target_size = target_size\n",
        "\n",
        "    def fit(self, X, y=None):\n",
        "        return self\n",
        "\n",
        "    def transform(self, X):\n",
        "        processed_images = []\n",
        "\n",
        "        for item in X:\n",
        "            if isinstance(item, np.ndarray):\n",
        "                # Se for um numpy array, assumimos que já está na forma correta\n",
        "                im = item.astype('float32')\n",
        "                # Verificar se os valores já foram divididos por 255\n",
        "                if im.max() > 1.0:\n",
        "                    # Normalizar os valores dos pixels\n",
        "                    im /= 255.0\n",
        "            elif isinstance(item, Image.Image):\n",
        "                # Se for uma instância de Image (Pillow), aplicamos as transformações\n",
        "                im = item.copy()\n",
        "                # Converter a imagem para o modo RGBA se não estiver nesse formato\n",
        "                if im.mode != 'RGB':\n",
        "                    im = im.convert('RGB')\n",
        "                # Redimensionar a imagem para o tamanho desejado\n",
        "                im = im.resize(self.target_size)\n",
        "                # Converter a imagem para um array numpy de float32\n",
        "                im = np.array(im, dtype='float32')\n",
        "                # Verificar se os valores já foram divididos por 255\n",
        "                if im.max() > 1.0:\n",
        "                    # Normalizar os valores dos pixels\n",
        "                    im /= 255.0\n",
        "            else:\n",
        "                raise ValueError(\"O tipo de entrada não é suportado.\")\n",
        "\n",
        "            # Adicionar a imagem processada à lista de resultados\n",
        "            processed_images.append(im)\n",
        "\n",
        "        return np.array(processed_images)"
      ]
    },
    {
      "cell_type": "code",
      "execution_count": null,
      "metadata": {
        "id": "ARSg4UjMcvHZ"
      },
      "outputs": [],
      "source": [
        "# importar a classe do arquivo Python que criamos\n",
        "from imageProcessor import ImageProcessor"
      ]
    },
    {
      "cell_type": "code",
      "execution_count": null,
      "metadata": {
        "id": "STZN64h6YL51"
      },
      "outputs": [],
      "source": [
        "modelo_carregado = tf.keras.models.load_model('breast_cancer_weights.keras')"
      ]
    },
    {
      "cell_type": "code",
      "execution_count": null,
      "metadata": {
        "id": "65DLfGXwGoAI"
      },
      "outputs": [],
      "source": [
        "# criando um pipeline com normalizador e o modelo treinado\n",
        "pipeline = Pipeline([\n",
        "    ('normalizer', ImageProcessor(target_size=(224, 224))),\n",
        "    ('model', modelo_carregado)\n",
        "])"
      ]
    },
    {
      "cell_type": "markdown",
      "metadata": {
        "id": "oNNfrM15TrJZ"
      },
      "source": [
        "## Usando Pipeline"
      ]
    },
    {
      "cell_type": "code",
      "execution_count": null,
      "metadata": {
        "id": "pLRfi5K1TumQ",
        "colab": {
          "base_uri": "https://localhost:8080/"
        },
        "outputId": "c0e6e3d7-8aa5-4d37-d377-7577f4c9279e"
      },
      "outputs": [
        {
          "output_type": "stream",
          "name": "stdout",
          "text": [
            "12/12 [==============================] - 13s 536ms/step\n"
          ]
        }
      ],
      "source": [
        "predictions = pipeline.predict(X_test)"
      ]
    },
    {
      "cell_type": "code",
      "execution_count": null,
      "metadata": {
        "id": "96G3zVX_UDYK"
      },
      "outputs": [],
      "source": [
        "predict = []\n",
        "for i in predictions:\n",
        "    predict.append(np.argmax(i))"
      ]
    },
    {
      "cell_type": "code",
      "execution_count": null,
      "metadata": {
        "id": "qZxbFGMOUFLn",
        "colab": {
          "base_uri": "https://localhost:8080/"
        },
        "outputId": "50f3a5d5-1827-4d76-9d88-eb8610b55b65"
      },
      "outputs": [
        {
          "output_type": "stream",
          "name": "stdout",
          "text": [
            "              precision    recall  f1-score   support\n",
            "\n",
            "           0       0.50      1.00      0.67       186\n",
            "           1       0.00      0.00      0.00       185\n",
            "\n",
            "    accuracy                           0.50       371\n",
            "   macro avg       0.25      0.50      0.33       371\n",
            "weighted avg       0.25      0.50      0.33       371\n",
            "\n"
          ]
        },
        {
          "output_type": "stream",
          "name": "stderr",
          "text": [
            "/usr/local/lib/python3.10/dist-packages/sklearn/metrics/_classification.py:1344: UndefinedMetricWarning: Precision and F-score are ill-defined and being set to 0.0 in labels with no predicted samples. Use `zero_division` parameter to control this behavior.\n",
            "  _warn_prf(average, modifier, msg_start, len(result))\n",
            "/usr/local/lib/python3.10/dist-packages/sklearn/metrics/_classification.py:1344: UndefinedMetricWarning: Precision and F-score are ill-defined and being set to 0.0 in labels with no predicted samples. Use `zero_division` parameter to control this behavior.\n",
            "  _warn_prf(average, modifier, msg_start, len(result))\n",
            "/usr/local/lib/python3.10/dist-packages/sklearn/metrics/_classification.py:1344: UndefinedMetricWarning: Precision and F-score are ill-defined and being set to 0.0 in labels with no predicted samples. Use `zero_division` parameter to control this behavior.\n",
            "  _warn_prf(average, modifier, msg_start, len(result))\n"
          ]
        }
      ],
      "source": [
        "print(classification_report(y_test, predict))"
      ]
    },
    {
      "cell_type": "markdown",
      "metadata": {
        "id": "7Ajjrv35UNW3"
      },
      "source": [
        "# Adicionando o pipeline no wandb"
      ]
    },
    {
      "cell_type": "code",
      "execution_count": null,
      "metadata": {
        "id": "uwZXZturUVPY"
      },
      "outputs": [],
      "source": [
        "from joblib import dump, load"
      ]
    },
    {
      "cell_type": "code",
      "execution_count": null,
      "metadata": {
        "id": "0Xcj7HXUUb44",
        "colab": {
          "base_uri": "https://localhost:8080/"
        },
        "outputId": "c6c0f874-acec-4ee7-bc5a-c03023083f9f"
      },
      "outputs": [
        {
          "output_type": "execute_result",
          "data": {
            "text/plain": [
              "['pipe.joblib']"
            ]
          },
          "metadata": {},
          "execution_count": 29
        }
      ],
      "source": [
        "dump(pipeline, 'pipe.joblib')"
      ]
    },
    {
      "cell_type": "code",
      "execution_count": null,
      "metadata": {
        "id": "SYysb58wUlEo",
        "colab": {
          "base_uri": "https://localhost:8080/"
        },
        "outputId": "f3d19b72-fc20-4c62-a263-d9646bd90354"
      },
      "outputs": [
        {
          "output_type": "execute_result",
          "data": {
            "text/plain": [
              "<Artifact animation_model_pipeline>"
            ]
          },
          "metadata": {},
          "execution_count": 30
        }
      ],
      "source": [
        "# criando um artefato no wandb\n",
        "artifact = wandb.Artifact(name=\"animation_model_pipeline\",\n",
        "                                type=\"pipeline\",\n",
        "                                description=\"pipeline of the trained model\",\n",
        "      )\n",
        "\n",
        "# adiciona o arquivo no artefato\n",
        "artifact.add_file(\"/content/pipe.joblib\")\n",
        "# salva o artefato no wandb\n",
        "wandb.run.log_artifact(artifact)"
      ]
    },
    {
      "cell_type": "markdown",
      "metadata": {
        "id": "N5qDXvDLc0GI"
      },
      "source": [
        "# Put the python class into wandb"
      ]
    },
    {
      "cell_type": "code",
      "execution_count": null,
      "metadata": {
        "id": "9X_RZFRYc42Y",
        "colab": {
          "base_uri": "https://localhost:8080/"
        },
        "outputId": "acff54d1-5762-4a48-df30-aecf38cf74f2"
      },
      "outputs": [
        {
          "output_type": "execute_result",
          "data": {
            "text/plain": [
              "<Artifact imageProcessor_class>"
            ]
          },
          "metadata": {},
          "execution_count": 31
        }
      ],
      "source": [
        "# criando um artefato no wandb\n",
        "artifact = wandb.Artifact(name=\"imageProcessor_class\",\n",
        "                                type=\"python\",\n",
        "                                description=\"class needed to use in transform of our pipeline\",\n",
        "      )\n",
        "\n",
        "# adiciona o arquivo no artefato\n",
        "artifact.add_file(\"/content/imageProcessor.py\")\n",
        "# salva o artefato no wandb\n",
        "wandb.run.log_artifact(artifact)"
      ]
    },
    {
      "cell_type": "code",
      "execution_count": null,
      "metadata": {
        "id": "uHA7ki6nUmsZ"
      },
      "outputs": [],
      "source": [
        "# termina a run\n",
        "run.finish()"
      ]
    }
  ],
  "metadata": {
    "accelerator": "GPU",
    "colab": {
      "gpuType": "T4",
      "provenance": []
    },
    "kernelspec": {
      "display_name": "Python 3",
      "name": "python3"
    },
    "language_info": {
      "name": "python"
    }
  },
  "nbformat": 4,
  "nbformat_minor": 0
}