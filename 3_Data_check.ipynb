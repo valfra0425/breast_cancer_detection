{
  "nbformat": 4,
  "nbformat_minor": 0,
  "metadata": {
    "colab": {
      "provenance": []
    },
    "kernelspec": {
      "name": "python3",
      "display_name": "Python 3"
    },
    "language_info": {
      "name": "python"
    }
  },
  "cells": [
    {
      "cell_type": "code",
      "execution_count": null,
      "metadata": {
        "id": "B0yxYRIO80-F",
        "colab": {
          "base_uri": "https://localhost:8080/"
        },
        "outputId": "ef168638-e96a-4c72-fbf6-d294139016b4"
      },
      "outputs": [
        {
          "output_type": "stream",
          "name": "stdout",
          "text": [
            "Collecting wandb\n",
            "  Downloading wandb-0.16.3-py3-none-any.whl (2.2 MB)\n",
            "\u001b[2K     \u001b[90m━━━━━━━━━━━━━━━━━━━━━━━━━━━━━━━━━━━━━━━━\u001b[0m \u001b[32m2.2/2.2 MB\u001b[0m \u001b[31m9.4 MB/s\u001b[0m eta \u001b[36m0:00:00\u001b[0m\n",
            "\u001b[?25hRequirement already satisfied: Click!=8.0.0,>=7.1 in /usr/local/lib/python3.10/dist-packages (from wandb) (8.1.7)\n",
            "Collecting GitPython!=3.1.29,>=1.0.0 (from wandb)\n",
            "  Downloading GitPython-3.1.42-py3-none-any.whl (195 kB)\n",
            "\u001b[2K     \u001b[90m━━━━━━━━━━━━━━━━━━━━━━━━━━━━━━━━━━━━━━━━\u001b[0m \u001b[32m195.4/195.4 kB\u001b[0m \u001b[31m13.3 MB/s\u001b[0m eta \u001b[36m0:00:00\u001b[0m\n",
            "\u001b[?25hRequirement already satisfied: requests<3,>=2.0.0 in /usr/local/lib/python3.10/dist-packages (from wandb) (2.31.0)\n",
            "Requirement already satisfied: psutil>=5.0.0 in /usr/local/lib/python3.10/dist-packages (from wandb) (5.9.5)\n",
            "Collecting sentry-sdk>=1.0.0 (from wandb)\n",
            "  Downloading sentry_sdk-1.40.6-py2.py3-none-any.whl (258 kB)\n",
            "\u001b[2K     \u001b[90m━━━━━━━━━━━━━━━━━━━━━━━━━━━━━━━━━━━━━━━━\u001b[0m \u001b[32m258.5/258.5 kB\u001b[0m \u001b[31m10.5 MB/s\u001b[0m eta \u001b[36m0:00:00\u001b[0m\n",
            "\u001b[?25hCollecting docker-pycreds>=0.4.0 (from wandb)\n",
            "  Downloading docker_pycreds-0.4.0-py2.py3-none-any.whl (9.0 kB)\n",
            "Requirement already satisfied: PyYAML in /usr/local/lib/python3.10/dist-packages (from wandb) (6.0.1)\n",
            "Collecting setproctitle (from wandb)\n",
            "  Downloading setproctitle-1.3.3-cp310-cp310-manylinux_2_5_x86_64.manylinux1_x86_64.manylinux_2_17_x86_64.manylinux2014_x86_64.whl (30 kB)\n",
            "Requirement already satisfied: setuptools in /usr/local/lib/python3.10/dist-packages (from wandb) (67.7.2)\n",
            "Requirement already satisfied: appdirs>=1.4.3 in /usr/local/lib/python3.10/dist-packages (from wandb) (1.4.4)\n",
            "Requirement already satisfied: protobuf!=4.21.0,<5,>=3.19.0 in /usr/local/lib/python3.10/dist-packages (from wandb) (3.20.3)\n",
            "Requirement already satisfied: six>=1.4.0 in /usr/local/lib/python3.10/dist-packages (from docker-pycreds>=0.4.0->wandb) (1.16.0)\n",
            "Collecting gitdb<5,>=4.0.1 (from GitPython!=3.1.29,>=1.0.0->wandb)\n",
            "  Downloading gitdb-4.0.11-py3-none-any.whl (62 kB)\n",
            "\u001b[2K     \u001b[90m━━━━━━━━━━━━━━━━━━━━━━━━━━━━━━━━━━━━━━━━\u001b[0m \u001b[32m62.7/62.7 kB\u001b[0m \u001b[31m7.7 MB/s\u001b[0m eta \u001b[36m0:00:00\u001b[0m\n",
            "\u001b[?25hRequirement already satisfied: charset-normalizer<4,>=2 in /usr/local/lib/python3.10/dist-packages (from requests<3,>=2.0.0->wandb) (3.3.2)\n",
            "Requirement already satisfied: idna<4,>=2.5 in /usr/local/lib/python3.10/dist-packages (from requests<3,>=2.0.0->wandb) (3.6)\n",
            "Requirement already satisfied: urllib3<3,>=1.21.1 in /usr/local/lib/python3.10/dist-packages (from requests<3,>=2.0.0->wandb) (2.0.7)\n",
            "Requirement already satisfied: certifi>=2017.4.17 in /usr/local/lib/python3.10/dist-packages (from requests<3,>=2.0.0->wandb) (2024.2.2)\n",
            "Collecting smmap<6,>=3.0.1 (from gitdb<5,>=4.0.1->GitPython!=3.1.29,>=1.0.0->wandb)\n",
            "  Downloading smmap-5.0.1-py3-none-any.whl (24 kB)\n",
            "Installing collected packages: smmap, setproctitle, sentry-sdk, docker-pycreds, gitdb, GitPython, wandb\n",
            "Successfully installed GitPython-3.1.42 docker-pycreds-0.4.0 gitdb-4.0.11 sentry-sdk-1.40.6 setproctitle-1.3.3 smmap-5.0.1 wandb-0.16.3\n"
          ]
        }
      ],
      "source": [
        "# instalação do Weights & Biases\n",
        "!pip install wandb"
      ]
    },
    {
      "cell_type": "code",
      "source": [
        "# instalação do pytest\n",
        "!pip install pytest pytest-sugar"
      ],
      "metadata": {
        "id": "bkGdkiXUNMQ9",
        "colab": {
          "base_uri": "https://localhost:8080/"
        },
        "outputId": "bf7ee06a-f311-4149-ae61-952bee0bf903"
      },
      "execution_count": null,
      "outputs": [
        {
          "output_type": "stream",
          "name": "stdout",
          "text": [
            "Requirement already satisfied: pytest in /usr/local/lib/python3.10/dist-packages (7.4.4)\n",
            "Collecting pytest-sugar\n",
            "  Downloading pytest_sugar-1.0.0-py3-none-any.whl (10 kB)\n",
            "Requirement already satisfied: iniconfig in /usr/local/lib/python3.10/dist-packages (from pytest) (2.0.0)\n",
            "Requirement already satisfied: packaging in /usr/local/lib/python3.10/dist-packages (from pytest) (23.2)\n",
            "Requirement already satisfied: pluggy<2.0,>=0.12 in /usr/local/lib/python3.10/dist-packages (from pytest) (1.4.0)\n",
            "Requirement already satisfied: exceptiongroup>=1.0.0rc8 in /usr/local/lib/python3.10/dist-packages (from pytest) (1.2.0)\n",
            "Requirement already satisfied: tomli>=1.0.0 in /usr/local/lib/python3.10/dist-packages (from pytest) (2.0.1)\n",
            "Requirement already satisfied: termcolor>=2.1.0 in /usr/local/lib/python3.10/dist-packages (from pytest-sugar) (2.4.0)\n",
            "Installing collected packages: pytest-sugar\n",
            "Successfully installed pytest-sugar-1.0.0\n"
          ]
        }
      ]
    },
    {
      "cell_type": "code",
      "source": [
        "# importação das bibliotecas\n",
        "import wandb\n",
        "import numpy as np\n",
        "import pandas as pd"
      ],
      "metadata": {
        "id": "RoWFVuq7M_XK"
      },
      "execution_count": null,
      "outputs": []
    },
    {
      "cell_type": "code",
      "source": [
        "# wandb login\n",
        "!wandb login --relogin"
      ],
      "metadata": {
        "id": "geSrcyG6NGqm",
        "colab": {
          "base_uri": "https://localhost:8080/"
        },
        "outputId": "06424b6a-3035-49c1-b4f5-4e6534d273b1"
      },
      "execution_count": null,
      "outputs": [
        {
          "output_type": "stream",
          "name": "stdout",
          "text": [
            "\u001b[34m\u001b[1mwandb\u001b[0m: Logging into wandb.ai. (Learn how to deploy a W&B server locally: https://wandb.me/wandb-server)\n",
            "\u001b[34m\u001b[1mwandb\u001b[0m: You can find your API key in your browser here: https://wandb.ai/authorize\n",
            "\u001b[34m\u001b[1mwandb\u001b[0m: Paste an API key from your profile and hit enter, or press ctrl+c to quit: \n",
            "\u001b[34m\u001b[1mwandb\u001b[0m: Appending key for api.wandb.ai to your netrc file: /root/.netrc\n"
          ]
        }
      ]
    },
    {
      "cell_type": "code",
      "source": [
        "# criando um arquivo de test\n",
        "%%file test_data.py\n",
        "\n",
        "import pytest\n",
        "import wandb\n",
        "import pandas as pd\n",
        "import numpy as np\n",
        "import os\n",
        "from PIL import Image\n",
        "\n",
        "# inicializando uma run no wandb\n",
        "run = wandb.init(project=\"Breast Cancer TCC\", job_type=\"check_data\")\n",
        "\n",
        "@pytest.fixture(scope=\"session\")\n",
        "def data():\n",
        "    artifact = run.use_artifact('valmirfrancisco1/Breast Cancer TCC/label_data_clean:latest', type='clean_data').file()\n",
        "    artifact2 = run.use_artifact('valmirfrancisco1/Breast Cancer TCC/img_data_clean:latest', type='clean_data').file()\n",
        "    labels = pd.read_csv(artifact)\n",
        "    data_img = np.load(artifact2)\n",
        "\n",
        "    return labels, data_img\n",
        "\n",
        "\n",
        "def test_data_length(data):\n",
        "    # verificamos se temos a quantidade necessária de dados e se os dois artefatos têm o mesmo tamanho\n",
        "    labels, data_img = data\n",
        "    assert (len(labels) > 2000) and (len(data_img) > 2000) and (len(labels) == len(data_img))\n",
        "\n",
        "\n",
        "def test_image_data_shape(data):\n",
        "    # verifica se todos os valores do artefato data_img têm o mesmo formato\n",
        "    labels, data_img = data\n",
        "    for i in data_img:\n",
        "        assert i.shape == data_img[0].shape\n",
        "\n",
        "\n",
        "def test_label_data_types(data):\n",
        "    # verifica se todos os valores do artefato de rótulos são do mesmo tipo\n",
        "    labels, data_img = data\n",
        "    for i in range(0, len(labels.columns)):\n",
        "        assert type(labels.dtypes[i]) == type(labels.dtypes[0])\n",
        "\n",
        "\n",
        "def test_img_data_types(data):\n",
        "    # verifica se todos os valores do artefato data_img têm o mesmo tipo\n",
        "    labels, data_img = data\n",
        "    for i in range(len(data_img)):\n",
        "        assert type(data_img[i]) == type(data_img[0])\n",
        "\n",
        "\n",
        "def test_image_data_valid(data):\n",
        "    # verifica se os dados de img_dat são uma imagem válida\n",
        "    # com este teste não precisamos de uma verificação nula no img_data!\n",
        "    labels, data_img = data\n",
        "    for i in data_img:\n",
        "        img = i*255\n",
        "        img = img.astype(np.uint8)\n",
        "        image = Image.fromarray(img)\n",
        "        assert (image.size == (224, 224) and image.mode == 'RGB')\n",
        "\n",
        "\n",
        "def test_label_range(data):\n",
        "    # testa se os valores da categoria estão dentro de um intervalo de valores esperado\n",
        "    labels, data_img = data\n",
        "    binary_column = [\"site_id\", \"cancer\", \"biopsy\", \"invasive\", \"implant\", \"difficult_negative_case\"]\n",
        "    for i in binary_column:\n",
        "        if not labels[i].isin([0, 1]).all():\n",
        "            return False\n",
        "    return True\n",
        "\n",
        "\n",
        "def test_null_values_from_labels(data):\n",
        "    # testa se há dados faltantes no quadro de dados\n",
        "    labels, data_img = data\n",
        "    assert not labels.isnull().any().any()\n",
        "\n",
        "def test_number_of_columns(data):\n",
        "    # verificar quantidade de colunas do dataset\n",
        "    labels, data_img = data\n",
        "    assert labels.shape[1] == 12\n",
        "\n",
        "def test_same_quantity_labels(data):\n",
        "    # verifica se os valores 0 e 1 de cancer estão na mesma quantidade\n",
        "    labels, data_img = data\n",
        "    filter_1 = labels[\"cancer\"] == 1\n",
        "    filter_0 = labels[\"cancer\"] == 0\n",
        "    assert (labels[filter_1].shape[0] == labels[filter_0].shape[0])\n",
        "\n",
        "    # finaliza a run\n",
        "    run.finish()"
      ],
      "metadata": {
        "id": "KzNES1uZP1Rw",
        "colab": {
          "base_uri": "https://localhost:8080/"
        },
        "outputId": "2016f322-645a-459c-8f45-78fc93db0e8c"
      },
      "execution_count": null,
      "outputs": [
        {
          "output_type": "stream",
          "name": "stdout",
          "text": [
            "Overwriting test_data.py\n"
          ]
        }
      ]
    },
    {
      "cell_type": "code",
      "source": [
        "# inicializa o teste\n",
        "!pytest . -vv"
      ],
      "metadata": {
        "id": "Jus3XllDQR3R",
        "colab": {
          "base_uri": "https://localhost:8080/"
        },
        "outputId": "a4319ec3-3660-45c5-80c1-1653f3bb6cce"
      },
      "execution_count": null,
      "outputs": [
        {
          "output_type": "stream",
          "name": "stdout",
          "text": [
            "\u001b[1mTest session starts (platform: linux, Python 3.10.12, pytest 7.4.4, pytest-sugar 1.0.0)\u001b[0m\n",
            "cachedir: .pytest_cache\n",
            "rootdir: /content\n",
            "plugins: sugar-1.0.0, anyio-3.7.1\n",
            "collected 9 items                                                                                  \u001b[0m\n",
            "\n",
            " \u001b[36mtest_data.py\u001b[0m::test_data_length\u001b[0m \u001b[32m✓\u001b[0m                                                     \u001b[32m11% \u001b[0m\u001b[40m\u001b[32m█\u001b[0m\u001b[40m\u001b[32m▎        \u001b[0m\n",
            " \u001b[36mtest_data.py\u001b[0m::test_image_data_shape\u001b[0m \u001b[32m✓\u001b[0m                                                \u001b[32m22% \u001b[0m\u001b[40m\u001b[32m█\u001b[0m\u001b[40m\u001b[32m█\u001b[0m\u001b[40m\u001b[32m▎       \u001b[0m\n",
            " \u001b[36mtest_data.py\u001b[0m::test_label_data_types\u001b[0m \u001b[32m✓\u001b[0m                                                \u001b[32m33% \u001b[0m\u001b[40m\u001b[32m█\u001b[0m\u001b[40m\u001b[32m█\u001b[0m\u001b[40m\u001b[32m█\u001b[0m\u001b[40m\u001b[32m▍      \u001b[0m\n",
            " \u001b[36mtest_data.py\u001b[0m::test_img_data_types\u001b[0m \u001b[32m✓\u001b[0m                                                  \u001b[32m44% \u001b[0m\u001b[40m\u001b[32m█\u001b[0m\u001b[40m\u001b[32m█\u001b[0m\u001b[40m\u001b[32m█\u001b[0m\u001b[40m\u001b[32m█\u001b[0m\u001b[40m\u001b[32m▌     \u001b[0m\n",
            " \u001b[36mtest_data.py\u001b[0m::test_image_data_valid\u001b[0m \u001b[32m✓\u001b[0m                                                \u001b[32m56% \u001b[0m\u001b[40m\u001b[32m█\u001b[0m\u001b[40m\u001b[32m█\u001b[0m\u001b[40m\u001b[32m█\u001b[0m\u001b[40m\u001b[32m█\u001b[0m\u001b[40m\u001b[32m█\u001b[0m\u001b[40m\u001b[32m▋    \u001b[0m\n",
            " \u001b[36mtest_data.py\u001b[0m::test_label_range\u001b[0m \u001b[32m✓\u001b[0m                                                     \u001b[32m67% \u001b[0m\u001b[40m\u001b[32m█\u001b[0m\u001b[40m\u001b[32m█\u001b[0m\u001b[40m\u001b[32m█\u001b[0m\u001b[40m\u001b[32m█\u001b[0m\u001b[40m\u001b[32m█\u001b[0m\u001b[40m\u001b[32m█\u001b[0m\u001b[40m\u001b[32m▋   \u001b[0m\n",
            " \u001b[36mtest_data.py\u001b[0m::test_null_values_from_labels\u001b[0m \u001b[32m✓\u001b[0m                                         \u001b[32m78% \u001b[0m\u001b[40m\u001b[32m█\u001b[0m\u001b[40m\u001b[32m█\u001b[0m\u001b[40m\u001b[32m█\u001b[0m\u001b[40m\u001b[32m█\u001b[0m\u001b[40m\u001b[32m█\u001b[0m\u001b[40m\u001b[32m█\u001b[0m\u001b[40m\u001b[32m█\u001b[0m\u001b[40m\u001b[32m▊  \u001b[0m\n",
            " \u001b[36mtest_data.py\u001b[0m::test_number_of_columns\u001b[0m \u001b[32m✓\u001b[0m                                               \u001b[32m89% \u001b[0m\u001b[40m\u001b[32m█\u001b[0m\u001b[40m\u001b[32m█\u001b[0m\u001b[40m\u001b[32m█\u001b[0m\u001b[40m\u001b[32m█\u001b[0m\u001b[40m\u001b[32m█\u001b[0m\u001b[40m\u001b[32m█\u001b[0m\u001b[40m\u001b[32m█\u001b[0m\u001b[40m\u001b[32m█\u001b[0m\u001b[40m\u001b[32m▉ \u001b[0m\n",
            " \u001b[36mtest_data.py\u001b[0m::test_same_quantity_labels\u001b[0m \u001b[32m✓\u001b[0m                                           \u001b[32m100% \u001b[0m\u001b[40m\u001b[32m█\u001b[0m\u001b[40m\u001b[32m█\u001b[0m\u001b[40m\u001b[32m█\u001b[0m\u001b[40m\u001b[32m█\u001b[0m\u001b[40m\u001b[32m█\u001b[0m\u001b[40m\u001b[32m█\u001b[0m\u001b[40m\u001b[32m█\u001b[0m\u001b[40m\u001b[32m█\u001b[0m\u001b[40m\u001b[32m█\u001b[0m\u001b[40m\u001b[32m█\u001b[0m\n",
            "\n",
            "Results (15.35s):\n",
            "\u001b[32m       9 passed\u001b[0m\n"
          ]
        }
      ]
    }
  ]
}