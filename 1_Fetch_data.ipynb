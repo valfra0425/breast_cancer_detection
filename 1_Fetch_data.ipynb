{
  "nbformat": 4,
  "nbformat_minor": 0,
  "metadata": {
    "colab": {
      "provenance": []
    },
    "kernelspec": {
      "name": "python3",
      "display_name": "Python 3"
    },
    "language_info": {
      "name": "python"
    }
  },
  "cells": [
    {
      "cell_type": "code",
      "execution_count": null,
      "metadata": {
        "id": "OiWjLePpR5i8"
      },
      "outputs": [],
      "source": [
        "# instalação do Weights & Biases\n",
        "!pip install wandb"
      ]
    },
    {
      "cell_type": "code",
      "source": [
        "# importando bibliotecas\n",
        "import wandb\n",
        "import pandas as pd\n",
        "import numpy as np\n",
        "from google.colab import drive"
      ],
      "metadata": {
        "id": "OapSfJ_s3Hbu"
      },
      "execution_count": null,
      "outputs": []
    },
    {
      "cell_type": "markdown",
      "source": [
        "# Obtendo os dados"
      ],
      "metadata": {
        "id": "UBlm7aj93ixe"
      }
    },
    {
      "cell_type": "code",
      "source": [
        "# Pegando o CSV com as informações das imagens\n",
        "drive.mount('/content/gdrive')\n",
        "path_csv = \"/content/gdrive/MyDrive/TCC/data/train.csv\"\n",
        "ca_df =  pd.read_csv(path_csv)\n",
        "ca_df"
      ],
      "metadata": {
        "id": "AoiQRQ_X4bdk"
      },
      "execution_count": null,
      "outputs": []
    },
    {
      "cell_type": "markdown",
      "source": [
        "## Salvando CSV com as informações das imagens"
      ],
      "metadata": {
        "id": "Qz71J5GSiyz_"
      }
    },
    {
      "cell_type": "code",
      "source": [
        "# salvando o dataframe em um arquivo csv\n",
        "ca_df.to_csv(\"label_data.csv\", index=False)"
      ],
      "metadata": {
        "id": "UijDMHQoi52x"
      },
      "execution_count": null,
      "outputs": []
    },
    {
      "cell_type": "code",
      "source": [
        "df = pd.read_csv(\"label_data.csv\")\n",
        "df"
      ],
      "metadata": {
        "id": "5hoD8kK7ljzz"
      },
      "execution_count": null,
      "outputs": []
    },
    {
      "cell_type": "markdown",
      "source": [
        "# Criando os artefatos e colocando no wandb"
      ],
      "metadata": {
        "id": "L1lfli3GmUv4"
      }
    },
    {
      "cell_type": "code",
      "source": [
        "# wandb login\n",
        "!wandb login --relogin"
      ],
      "metadata": {
        "id": "3ImRghifmiHx"
      },
      "execution_count": null,
      "outputs": []
    },
    {
      "cell_type": "code",
      "source": [
        "# inicializando uma run no W&B para adicionar os dados obtidos\n",
        "run = wandb.init(project=\"Breast Cancer TCC\", job_type=\"fetch_data\")"
      ],
      "metadata": {
        "id": "q5guRhNzxV3h"
      },
      "execution_count": null,
      "outputs": []
    },
    {
      "cell_type": "code",
      "source": [
        "# criando um artefato no wandb\n",
        "artifact = wandb.Artifact(name=\"label_data\",\n",
        "                                  type=\"raw_data\",\n",
        "                                  description=\"data from the labels\")\n",
        "\n",
        "# adiciona o arquivo no artefato\n",
        "artifact.add_file('label_data.csv')\n",
        "\n",
        "# salva o artefato no wandb\n",
        "wandb.run.log_artifact(artifact)"
      ],
      "metadata": {
        "id": "7-kxEDt5mkRZ"
      },
      "execution_count": null,
      "outputs": []
    },
    {
      "cell_type": "code",
      "source": [
        "# termina a run\n",
        "run.finish()"
      ],
      "metadata": {
        "id": "cqngBz3C-yRe"
      },
      "execution_count": null,
      "outputs": []
    }
  ]
}